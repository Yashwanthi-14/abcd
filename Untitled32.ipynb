{
 "cells": [
  {
   "cell_type": "code",
   "execution_count": 6,
   "id": "f3e399bc",
   "metadata": {},
   "outputs": [
    {
     "name": "stdout",
     "output_type": "stream",
     "text": [
      "2 3 4 5 6 7 8 9\n",
      "9\n",
      "element found 7\n"
     ]
    }
   ],
   "source": [
    "#binary search\n",
    "l=[int(i) for i in input().split()]\n",
    "x=int(input())\n",
    "n=len(l)\n",
    "low=0\n",
    "h=n-1\n",
    "def bsearch(l,x,low,h):\n",
    "    while(low<=h):\n",
    "        mid=(low+h)//2\n",
    "        if(l[mid]==x):\n",
    "            return mid\n",
    "        elif(l[mid]<x):\n",
    "            low=mid+1\n",
    "        else:\n",
    "            h=mid-1\n",
    "    return -1\n",
    "res=bsearch(l,x,low,h)\n",
    "if(res==-1):\n",
    "    print(\"element not found\")\n",
    "else:\n",
    "    print(\"element found\",res)"
   ]
  },
  {
   "cell_type": "code",
   "execution_count": 14,
   "id": "26cdb3b0",
   "metadata": {},
   "outputs": [
    {
     "name": "stdout",
     "output_type": "stream",
     "text": [
      "3 4 5 6 7\n",
      "6\n",
      "not found\n"
     ]
    }
   ],
   "source": [
    "#linear search\n",
    "l=[int(x) for x in input().split()]\n",
    "ele=int(input())\n",
    "f=0\n",
    "for i in range(len(l)):\n",
    "    if(l[i]==ele):\n",
    "        f=1\n",
    "        print(i)\n",
    "    break\n",
    "if(f==1):\n",
    "    print(\"element found \")\n",
    "else:\n",
    "    print(\"not found\")"
   ]
  },
  {
   "cell_type": "code",
   "execution_count": 31,
   "id": "121b74d4",
   "metadata": {},
   "outputs": [
    {
     "name": "stdout",
     "output_type": "stream",
     "text": [
      "30\n"
     ]
    },
    {
     "data": {
      "text/plain": [
       "4"
      ]
     },
     "execution_count": 31,
     "metadata": {},
     "output_type": "execute_result"
    }
   ],
   "source": [
    "#counting no of sundays in a month\n",
    "def count_sun(n):\n",
    "    s_count=0\n",
    "    for i in range(1,n):\n",
    "        c_day=i%7\n",
    "        if(c_day==0):\n",
    "            s_count+=1\n",
    "    return s_count\n",
    "n=int(input())\n",
    "count_sun(n)"
   ]
  },
  {
   "cell_type": "code",
   "execution_count": 34,
   "id": "df9258e4",
   "metadata": {},
   "outputs": [
    {
     "name": "stdout",
     "output_type": "stream",
     "text": [
      "2 7 2 11 14\n",
      "9\n",
      "0 1\n",
      "1 2\n"
     ]
    }
   ],
   "source": [
    "l=[int(x) for x in input().split()]\n",
    "sum=int(input())\n",
    "for i in range(len(l)-1):\n",
    "    if((l[i]+l[i+1])==sum):\n",
    "        print(i,i+1)\n",
    "    \n"
   ]
  },
  {
   "cell_type": "code",
   "execution_count": 36,
   "id": "11347084",
   "metadata": {},
   "outputs": [
    {
     "name": "stdout",
     "output_type": "stream",
     "text": [
      "['apple', 'banana', 'orange']\n"
     ]
    }
   ],
   "source": [
    "s=[\"apple\", \"banana\", \"orange\", \"banana\", \"apple\"]\n",
    "s1=set(s)\n",
    "print(list(s1))"
   ]
  },
  {
   "cell_type": "code",
   "execution_count": 38,
   "id": "d494c2ff",
   "metadata": {},
   "outputs": [
    {
     "name": "stdout",
     "output_type": "stream",
     "text": [
      "3\n"
     ]
    }
   ],
   "source": [
    "arr=[7,4,8,2,9]\n",
    "c=0\n",
    "max=arr[0]\n",
    "for i in arr:\n",
    "    if(i>=max):\n",
    "        c+=1\n",
    "    max=i\n",
    "print(c)  \n",
    "        \n",
    "        \n",
    "        \n",
    "        \n",
    "    "
   ]
  },
  {
   "cell_type": "code",
   "execution_count": 63,
   "id": "61de19c8",
   "metadata": {},
   "outputs": [
    {
     "name": "stdout",
     "output_type": "stream",
     "text": [
      "2 0 2 1 2 0 1 1\n",
      "[[2, 0, 2, 1, 2, 0, 1, 1]]\n",
      "[2]\n"
     ]
    }
   ],
   "source": [
    "l=[[int(x) for x in input().split()]]\n",
    "print(sorted(l))\n",
    "l1=[]\n",
    "l2=[]\n",
    "l3=[]\n",
    "for i in range(len(l)):\n",
    "    if(l[i]==0):\n",
    "        l1.append(0)\n",
    "    elif(l[i]==1):\n",
    "        l2.append(1)\n",
    "    else:\n",
    "        l3.append(2)\n",
    "l4=l1+l2+l3\n",
    "print(l4)"
   ]
  },
  {
   "cell_type": "code",
   "execution_count": 52,
   "id": "c3a3267c",
   "metadata": {},
   "outputs": [
    {
     "name": "stdout",
     "output_type": "stream",
     "text": [
      "False\n"
     ]
    }
   ],
   "source": [
    "arr=[8, 2, 3, 4, 5]\n",
    "if(arr==sorted(arr)):\n",
    "    print(\"True\")\n",
    "else:\n",
    "    print(\"False\")"
   ]
  },
  {
   "cell_type": "code",
   "execution_count": 53,
   "id": "04aa06f7",
   "metadata": {},
   "outputs": [
    {
     "name": "stdout",
     "output_type": "stream",
     "text": [
      "10\n"
     ]
    }
   ],
   "source": [
    "arr = [1, 2, 3, 4]\n",
    "s=0\n",
    "for i in arr:\n",
    "    s+=i\n",
    "print(s)"
   ]
  },
  {
   "cell_type": "code",
   "execution_count": 60,
   "id": "83fae730",
   "metadata": {},
   "outputs": [
    {
     "name": "stdout",
     "output_type": "stream",
     "text": [
      "{1: 1, 2: 2, 3: 3}\n"
     ]
    }
   ],
   "source": [
    "from collections import Counter\n",
    "arr = [1, 2, 2, 3, 3, 3]\n",
    "c=Counter(sorted(arr))\n",
    "print(dict(c))"
   ]
  },
  {
   "cell_type": "code",
   "execution_count": 62,
   "id": "5a40a681",
   "metadata": {},
   "outputs": [
    {
     "name": "stdout",
     "output_type": "stream",
     "text": [
      "[1, 3, 12, 0, 0]\n"
     ]
    }
   ],
   "source": [
    "arr = [0, 1, 0, 3, 12]\n",
    "l1=[]\n",
    "l2=[]\n",
    "for i in arr:\n",
    "    if(i==0):\n",
    "        l1.append(i)\n",
    "    else:\n",
    "        l2.append(i)\n",
    "print(l2+l1)\n",
    "    "
   ]
  },
  {
   "cell_type": "code",
   "execution_count": 73,
   "id": "d0624f66",
   "metadata": {},
   "outputs": [
    {
     "name": "stdout",
     "output_type": "stream",
     "text": [
      "True\n"
     ]
    }
   ],
   "source": [
    "#checking duplicates\n",
    "l=[2,1,1,2,1,9.8]\n",
    "l1=[]\n",
    "l2=[]\n",
    "for i in l:\n",
    "    if i not in l1:\n",
    "        l1.append(i)\n",
    "    else:\n",
    "        l2.append(i)\n",
    "if(l2==[]):\n",
    "    print(\"False\")\n",
    "else:\n",
    "    print(\"True\")"
   ]
  },
  {
   "cell_type": "code",
   "execution_count": 78,
   "id": "f87e831a",
   "metadata": {},
   "outputs": [
    {
     "name": "stdout",
     "output_type": "stream",
     "text": [
      "[5, 6, 7, 1, 2, 3, 4]\n"
     ]
    }
   ],
   "source": [
    "#rotate the array\n",
    "l=[1,2,3,4,5,6,7]\n",
    "k=3\n",
    "n=len(l)\n",
    "n1=n-k\n",
    "l1=[]\n",
    "for i in range(n1):\n",
    "    l1.append(l[i])\n",
    "print(l[n1:]+l1)"
   ]
  },
  {
   "cell_type": "code",
   "execution_count": 81,
   "id": "b67f6efd",
   "metadata": {},
   "outputs": [
    {
     "name": "stdout",
     "output_type": "stream",
     "text": [
      "[1, 2, 1]\n"
     ]
    }
   ],
   "source": [
    "l=[2,1,1,2,1,9,8]\n",
    "l1=[]\n",
    "l2=[]\n",
    "for i in l:\n",
    "    if i not in l1:\n",
    "        l1.append(i)\n",
    "    else:\n",
    "        l2.append(i)\n",
    "print(l2)"
   ]
  },
  {
   "cell_type": "code",
   "execution_count": 8,
   "id": "c53c0968",
   "metadata": {},
   "outputs": [
    {
     "name": "stdout",
     "output_type": "stream",
     "text": [
      "4\n"
     ]
    }
   ],
   "source": [
    "from collections import Counter\n",
    "arr=[4,1,2,1,2]\n",
    "c=Counter(arr)\n",
    "d={i for i,j in c.items() if (j)==1}\n",
    "for i in d:\n",
    "    print(i)"
   ]
  },
  {
   "cell_type": "raw",
   "id": "8b36eda5",
   "metadata": {},
   "source": [
    "arr=[1, 2, 3, 4, 5, 6, 7]\n",
    "print(arr)"
   ]
  },
  {
   "cell_type": "code",
   "execution_count": 2,
   "id": "ae3f71a1",
   "metadata": {},
   "outputs": [
    {
     "name": "stdout",
     "output_type": "stream",
     "text": [
      "3\n",
      "4\n"
     ]
    }
   ],
   "source": [
    "arr=[1, 2, 3, 4, 5, 6, 7]\n",
    "s=sorted(arr)\n",
    "sum=0\n",
    "n=len(arr)\n",
    "mid=n//2\n",
    "print(mid)\n",
    "for i in range(len(s)):\n",
    "    sum+=arr[i]\n",
    "m=sum//len(arr)\n",
    "print(m)\n",
    "    "
   ]
  },
  {
   "cell_type": "code",
   "execution_count": 20,
   "id": "7bef88df",
   "metadata": {},
   "outputs": [
    {
     "ename": "TypeError",
     "evalue": "'int' object is not iterable",
     "output_type": "error",
     "traceback": [
      "\u001b[1;31m---------------------------------------------------------------------------\u001b[0m",
      "\u001b[1;31mTypeError\u001b[0m                                 Traceback (most recent call last)",
      "Cell \u001b[1;32mIn[20], line 4\u001b[0m\n\u001b[0;32m      2\u001b[0m arr \u001b[38;5;241m=\u001b[39m [\u001b[38;5;241m2\u001b[39m, \u001b[38;5;241m5\u001b[39m, \u001b[38;5;241m2\u001b[39m, \u001b[38;5;241m8\u001b[39m, \u001b[38;5;241m5\u001b[39m, \u001b[38;5;241m6\u001b[39m, \u001b[38;5;241m8\u001b[39m, \u001b[38;5;241m8\u001b[39m]\n\u001b[0;32m      3\u001b[0m c\u001b[38;5;241m=\u001b[39mCounter(arr)\n\u001b[1;32m----> 4\u001b[0m d\u001b[38;5;241m=\u001b[39m[i \u001b[38;5;28;01mfor\u001b[39;00m i1,j \u001b[38;5;129;01min\u001b[39;00m Counter(arr)\u001b[38;5;241m.\u001b[39mmost_common() \u001b[38;5;28;01mfor\u001b[39;00m i \u001b[38;5;129;01min\u001b[39;00m c[i1]\u001b[38;5;241m*\u001b[39mj]\n\u001b[0;32m      5\u001b[0m \u001b[38;5;28mprint\u001b[39m(\u001b[38;5;28mstr\u001b[39m(d))\n",
      "Cell \u001b[1;32mIn[20], line 4\u001b[0m, in \u001b[0;36m<listcomp>\u001b[1;34m(.0)\u001b[0m\n\u001b[0;32m      2\u001b[0m arr \u001b[38;5;241m=\u001b[39m [\u001b[38;5;241m2\u001b[39m, \u001b[38;5;241m5\u001b[39m, \u001b[38;5;241m2\u001b[39m, \u001b[38;5;241m8\u001b[39m, \u001b[38;5;241m5\u001b[39m, \u001b[38;5;241m6\u001b[39m, \u001b[38;5;241m8\u001b[39m, \u001b[38;5;241m8\u001b[39m]\n\u001b[0;32m      3\u001b[0m c\u001b[38;5;241m=\u001b[39mCounter(arr)\n\u001b[1;32m----> 4\u001b[0m d\u001b[38;5;241m=\u001b[39m[i \u001b[38;5;28;01mfor\u001b[39;00m i1,j \u001b[38;5;129;01min\u001b[39;00m Counter(arr)\u001b[38;5;241m.\u001b[39mmost_common() \u001b[38;5;28;01mfor\u001b[39;00m i \u001b[38;5;129;01min\u001b[39;00m c[i1]\u001b[38;5;241m*\u001b[39mj]\n\u001b[0;32m      5\u001b[0m \u001b[38;5;28mprint\u001b[39m(\u001b[38;5;28mstr\u001b[39m(d))\n",
      "\u001b[1;31mTypeError\u001b[0m: 'int' object is not iterable"
     ]
    }
   ],
   "source": [
    "#sorting the elements by frequency\n",
    "arr = [2, 5, 2, 8, 5, 6, 8, 8]\n",
    "c=Counter(arr)\n",
    "d=[i for i1,j in Counter(arr).most_common() for i in c[i1]*j]\n",
    "print(str(d))"
   ]
  },
  {
   "cell_type": "code",
   "execution_count": 21,
   "id": "56ab1f72",
   "metadata": {},
   "outputs": [
    {
     "name": "stdout",
     "output_type": "stream",
     "text": [
      "[50, 50, 50, 40, 40, 10, 20, 30]\n"
     ]
    }
   ],
   "source": [
    "from collections import Counter\n",
    "ini_list = [10, 20, 30, 40, 40, 50, 50, 50]\n",
    "\n",
    "result = [item for items, c in Counter(ini_list).most_common() for item in [items] * c]\n",
    "\n",
    "print(str(result))"
   ]
  },
  {
   "cell_type": "code",
   "execution_count": 25,
   "id": "cf65a368",
   "metadata": {},
   "outputs": [
    {
     "name": "stdout",
     "output_type": "stream",
     "text": [
      "[8, 8, 8, 2, 2, 5, 5, 6]\n"
     ]
    }
   ],
   "source": [
    "arr = [2, 5, 2, 8, 5, 6, 8, 8]\n",
    "res=[i for j,c in Counter(arr).most_common() for i in [j]*c]\n",
    "print(res)"
   ]
  },
  {
   "cell_type": "code",
   "execution_count": 31,
   "id": "9bab766f",
   "metadata": {},
   "outputs": [],
   "source": [
    "arr = [3, 3, 4, 2, 4, 4, 2, 4]\n",
    "mid=len(arr)//2\n",
    "c=Counter(arr)\n",
    "d={i for i,j in c.items() if j>mid}\n",
    "for i in d:\n",
    "    \n",
    "    print(i)"
   ]
  },
  {
   "cell_type": "code",
   "execution_count": 34,
   "id": "3d9c69b5",
   "metadata": {},
   "outputs": [
    {
     "name": "stdout",
     "output_type": "stream",
     "text": [
      "[2, 3]\n",
      "[2, 3, 4]\n"
     ]
    }
   ],
   "source": [
    "a1=[3, 3, 4, 2, 4, 4, 2, 4]\n",
    "a2=[3,3,2]\n",
    "s=set(a1)\n",
    "s1=set(a2)\n",
    "s2=s  & s1\n",
    "s3=s | s1\n",
    "print(list(s2))#intersection\n",
    "print(list(s3))#union\n"
   ]
  },
  {
   "cell_type": "code",
   "execution_count": 35,
   "id": "8b8f1502",
   "metadata": {},
   "outputs": [
    {
     "name": "stdout",
     "output_type": "stream",
     "text": [
      "[-1, 3, 4]\n"
     ]
    }
   ],
   "source": [
    "arr=[4,1,2]\n",
    "ar1=[1,3,4,2]\n",
    "l=[]\n",
    "for i in range(len(arr)):\n",
    "    if(arr[i]>ar1[i]):\n",
    "        l.append(-1)\n",
    "    else:\n",
    "        l.append(ar1[i])\n",
    "print(l)"
   ]
  },
  {
   "cell_type": "code",
   "execution_count": 39,
   "id": "2032f153",
   "metadata": {},
   "outputs": [
    {
     "name": "stdout",
     "output_type": "stream",
     "text": [
      "2\n",
      "4\n"
     ]
    }
   ],
   "source": [
    "arr=[1, 2, 3, 1,4,6]\n",
    "for i in range(1,len(arr)-1):\n",
    "    if(arr[i-1]<arr[i] and arr[i]<arr[i+1]):\n",
    "        print(arr[i])\n",
    "        "
   ]
  },
  {
   "cell_type": "code",
   "execution_count": 42,
   "id": "0af26089",
   "metadata": {},
   "outputs": [
    {
     "name": "stdout",
     "output_type": "stream",
     "text": [
      "1\n"
     ]
    }
   ],
   "source": [
    "nums=[2,2,2,2,2]\n",
    "cnt = 1\n",
    "max_cnt = 0\n",
    "if len(nums) == 1:\n",
    "    print(1)\n",
    "for i in range(1,len(nums)):\n",
    "    if nums[i] > nums[i -1]:\n",
    "        cnt += 1\n",
    "    else:\n",
    "        cnt = 1\n",
    "if cnt > max_cnt:\n",
    "    max_cnt = cnt\n",
    "print(max_cnt)"
   ]
  },
  {
   "cell_type": "code",
   "execution_count": 1,
   "id": "37d90179",
   "metadata": {},
   "outputs": [
    {
     "name": "stdout",
     "output_type": "stream",
     "text": [
      "aabaaabbbab\n",
      "3\n",
      "3\n"
     ]
    }
   ],
   "source": [
    "#max count of curtains\n",
    "s=input()\n",
    "n=len(s)\n",
    "max1=0\n",
    "l=int(input())\n",
    "for i in range(0,n,l):\n",
    "    c_arr=s[i:i+l]\n",
    "    c=c_arr.count('a')\n",
    "    max1=max(max1,c)\n",
    "print(max1)"
   ]
  },
  {
   "cell_type": "code",
   "execution_count": 2,
   "id": "47d2b895",
   "metadata": {},
   "outputs": [
    {
     "name": "stdout",
     "output_type": "stream",
     "text": [
      "madam\n",
      "True\n"
     ]
    }
   ],
   "source": [
    "s=input()\n",
    "if(s==s[::-1]):\n",
    "    print(\"True\")\n",
    "else:\n",
    "    print(\"False\")"
   ]
  },
  {
   "cell_type": "code",
   "execution_count": 7,
   "id": "449afb7c",
   "metadata": {},
   "outputs": [
    {
     "name": "stdout",
     "output_type": "stream",
     "text": [
      "computer\n",
      "cer\n",
      "m\n",
      "o\n",
      "p\n",
      "t\n",
      "u\n"
     ]
    }
   ],
   "source": [
    "#removing characters from first string that are present in second string\n",
    "s=input()\n",
    "s1=input()\n",
    "s2=sorted(s1)\n",
    "s3=sorted(s)\n",
    "for i in s3:\n",
    "    if i not in s2:\n",
    "        print(''.join(i))"
   ]
  },
  {
   "cell_type": "code",
   "execution_count": 14,
   "id": "e49f6eff",
   "metadata": {},
   "outputs": [
    {
     "name": "stdout",
     "output_type": "stream",
     "text": [
      "geeks\n",
      "s 1\n",
      "e 2\n",
      "g 1\n",
      "k 1\n"
     ]
    }
   ],
   "source": [
    "from collections import Counter\n",
    "str1=input()\n",
    "c=Counter(str1)\n",
    "d={(i,j) for i,j in c.items()}\n",
    "for i,j in d:\n",
    "    print(i,j)"
   ]
  },
  {
   "cell_type": "code",
   "execution_count": null,
   "id": "b5a56e1c",
   "metadata": {},
   "outputs": [],
   "source": []
  }
 ],
 "metadata": {
  "kernelspec": {
   "display_name": "Python 3 (ipykernel)",
   "language": "python",
   "name": "python3"
  },
  "language_info": {
   "codemirror_mode": {
    "name": "ipython",
    "version": 3
   },
   "file_extension": ".py",
   "mimetype": "text/x-python",
   "name": "python",
   "nbconvert_exporter": "python",
   "pygments_lexer": "ipython3",
   "version": "3.11.5"
  }
 },
 "nbformat": 4,
 "nbformat_minor": 5
}
